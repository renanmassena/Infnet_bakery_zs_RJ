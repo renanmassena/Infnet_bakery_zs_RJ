{
 "cells": [
  {
   "cell_type": "markdown",
   "metadata": {},
   "source": [
    "## Importar bibliotecas"
   ]
  },
  {
   "cell_type": "code",
   "execution_count": 2,
   "metadata": {},
   "outputs": [
    {
     "name": "stdout",
     "output_type": "stream",
     "text": [
      "Libraries imported\n"
     ]
    }
   ],
   "source": [
    "import warnings\n",
    "warnings.filterwarnings(\"ignore\")\n",
    "\n",
    "import numpy as np\n",
    "import requests\n",
    "import re\n",
    "import folium\n",
    "import geopy\n",
    "import ast\n",
    "import folium\n",
    "from folium.plugins import MarkerCluster\n",
    "from folium.plugins import MousePosition\n",
    "from folium.features import DivIcon\n",
    "import haversine\n",
    "#from sklearn.metrics.pairwise import haversine_distances\n",
    "from math import radians\n",
    "import time\n",
    "import json\n",
    "#import parser\n",
    "from haversine import haversine\n",
    "import pandas as pd\n",
    "from pandas import json_normalize\n",
    "\n",
    "from geopy.geocoders import Nominatim\n",
    "\n",
    "#from bs4 import BeautifulSoup\n",
    "\n",
    "import sys\n",
    "sys.setrecursionlimit(2000)\n",
    "\n",
    "# Show all Columns and Rows\n",
    "pd.set_option(\"display.max_columns\", None)\n",
    "pd.set_option(\"display.max_rows\", None)\n",
    "\n",
    "# bliblioteca = https://pypi.org/project/haversine/\n",
    "\n",
    "print('Libraries imported')"
   ]
  },
  {
   "cell_type": "markdown",
   "metadata": {},
   "source": [
    "## Tratamento e consolidação de dados"
   ]
  },
  {
   "cell_type": "markdown",
   "metadata": {},
   "source": [
    "### Informações das estações"
   ]
  },
  {
   "cell_type": "code",
   "execution_count": 3,
   "metadata": {},
   "outputs": [
    {
     "data": {
      "text/plain": [
       "{'Catete': '-22.925580460005982,-43.1766003091964',\n",
       " 'Largo do Machado': '-22.930651090814383,-43.17832974593375',\n",
       " 'Flamengo': '-22.93684861832403,-43.17829091934274',\n",
       " 'Botafogo': '-22.950622880463147,-43.18405212488933',\n",
       " 'Cardeal Arco Verde': '-22.96361994621739,-43.18083122492285',\n",
       " 'Siqueira Campos': '-22.966722295911186,-43.18649393180904',\n",
       " 'Cantagalo': '-22.976112641984226,-43.192580445299605',\n",
       " 'General Osório': '-22.984610664497772,-43.19718307781211'}"
      ]
     },
     "execution_count": 3,
     "metadata": {},
     "output_type": "execute_result"
    }
   ],
   "source": [
    "station_dict = {'Catete' : '-22.925580460005982,-43.1766003091964',\n",
    "                'Largo do Machado' : '-22.930651090814383,-43.17832974593375',\n",
    "                'Flamengo' : '-22.93684861832403,-43.17829091934274',\n",
    "                'Botafogo' : '-22.950622880463147,-43.18405212488933',\n",
    "                'Cardeal Arco Verde' : '-22.96361994621739,-43.18083122492285',\n",
    "                'Siqueira Campos' : '-22.966722295911186,-43.18649393180904',\n",
    "                'Cantagalo' : '-22.976112641984226,-43.192580445299605',\n",
    "                'General Osório' : '-22.984610664497772,-43.19718307781211'}\n",
    "station_dict"
   ]
  },
  {
   "cell_type": "code",
   "execution_count": 4,
   "metadata": {},
   "outputs": [
    {
     "data": {
      "text/html": [
       "<div>\n",
       "<style scoped>\n",
       "    .dataframe tbody tr th:only-of-type {\n",
       "        vertical-align: middle;\n",
       "    }\n",
       "\n",
       "    .dataframe tbody tr th {\n",
       "        vertical-align: top;\n",
       "    }\n",
       "\n",
       "    .dataframe thead th {\n",
       "        text-align: right;\n",
       "    }\n",
       "</style>\n",
       "<table border=\"1\" class=\"dataframe\">\n",
       "  <thead>\n",
       "    <tr style=\"text-align: right;\">\n",
       "      <th></th>\n",
       "      <th>estacao_nome</th>\n",
       "      <th>latitude</th>\n",
       "      <th>longitude</th>\n",
       "      <th>cidade</th>\n",
       "    </tr>\n",
       "  </thead>\n",
       "  <tbody>\n",
       "    <tr>\n",
       "      <th>0</th>\n",
       "      <td>Catete</td>\n",
       "      <td>-22.925580</td>\n",
       "      <td>-43.176600</td>\n",
       "      <td>Rio de Janeiro</td>\n",
       "    </tr>\n",
       "    <tr>\n",
       "      <th>1</th>\n",
       "      <td>Largo do Machado</td>\n",
       "      <td>-22.930651</td>\n",
       "      <td>-43.178330</td>\n",
       "      <td>Rio de Janeiro</td>\n",
       "    </tr>\n",
       "    <tr>\n",
       "      <th>2</th>\n",
       "      <td>Flamengo</td>\n",
       "      <td>-22.936849</td>\n",
       "      <td>-43.178291</td>\n",
       "      <td>Rio de Janeiro</td>\n",
       "    </tr>\n",
       "    <tr>\n",
       "      <th>3</th>\n",
       "      <td>Botafogo</td>\n",
       "      <td>-22.950623</td>\n",
       "      <td>-43.184052</td>\n",
       "      <td>Rio de Janeiro</td>\n",
       "    </tr>\n",
       "    <tr>\n",
       "      <th>4</th>\n",
       "      <td>Cardeal Arco Verde</td>\n",
       "      <td>-22.963620</td>\n",
       "      <td>-43.180831</td>\n",
       "      <td>Rio de Janeiro</td>\n",
       "    </tr>\n",
       "    <tr>\n",
       "      <th>5</th>\n",
       "      <td>Siqueira Campos</td>\n",
       "      <td>-22.966722</td>\n",
       "      <td>-43.186494</td>\n",
       "      <td>Rio de Janeiro</td>\n",
       "    </tr>\n",
       "    <tr>\n",
       "      <th>6</th>\n",
       "      <td>Cantagalo</td>\n",
       "      <td>-22.976113</td>\n",
       "      <td>-43.192580</td>\n",
       "      <td>Rio de Janeiro</td>\n",
       "    </tr>\n",
       "    <tr>\n",
       "      <th>7</th>\n",
       "      <td>General Osório</td>\n",
       "      <td>-22.984611</td>\n",
       "      <td>-43.197183</td>\n",
       "      <td>Rio de Janeiro</td>\n",
       "    </tr>\n",
       "  </tbody>\n",
       "</table>\n",
       "</div>"
      ],
      "text/plain": [
       "         estacao_nome   latitude  longitude          cidade\n",
       "0              Catete -22.925580 -43.176600  Rio de Janeiro\n",
       "1    Largo do Machado -22.930651 -43.178330  Rio de Janeiro\n",
       "2            Flamengo -22.936849 -43.178291  Rio de Janeiro\n",
       "3            Botafogo -22.950623 -43.184052  Rio de Janeiro\n",
       "4  Cardeal Arco Verde -22.963620 -43.180831  Rio de Janeiro\n",
       "5     Siqueira Campos -22.966722 -43.186494  Rio de Janeiro\n",
       "6           Cantagalo -22.976113 -43.192580  Rio de Janeiro\n",
       "7      General Osório -22.984611 -43.197183  Rio de Janeiro"
      ]
     },
     "execution_count": 4,
     "metadata": {},
     "output_type": "execute_result"
    }
   ],
   "source": [
    "station = [['Catete',-22.925580460005982,-43.1766003091964, 'Rio de Janeiro'],\n",
    "           ['Largo do Machado',-22.930651090814383,-43.17832974593375, 'Rio de Janeiro'],\n",
    "           ['Flamengo',-22.93684861832403,-43.17829091934274, 'Rio de Janeiro'],\n",
    "           ['Botafogo',-22.950622880463147,-43.18405212488933, 'Rio de Janeiro'],\n",
    "           ['Cardeal Arco Verde',-22.96361994621739,-43.18083122492285, 'Rio de Janeiro'],\n",
    "           ['Siqueira Campos',-22.966722295911186,-43.18649393180904, 'Rio de Janeiro'],\n",
    "           ['Cantagalo',-22.976112641984226,-43.192580445299605, 'Rio de Janeiro'],\n",
    "           ['General Osório',-22.984610664497772,-43.19718307781211, 'Rio de Janeiro']]\n",
    "\n",
    "titles =   ['estacao_nome','latitude','longitude','cidade']\n",
    "\n",
    "df_station = pd.DataFrame(station, columns=titles)\n",
    "df_station\n"
   ]
  },
  {
   "cell_type": "markdown",
   "metadata": {},
   "source": [
    "### Tratamento das Categorias"
   ]
  },
  {
   "cell_type": "markdown",
   "metadata": {},
   "source": [
    "#### Abrir planilhas de categorias"
   ]
  },
  {
   "cell_type": "code",
   "execution_count": 5,
   "metadata": {},
   "outputs": [],
   "source": [
    "#academia\n",
    "academia = 'C:/Users/renan/OneDrive/Área de Trabalho/Estudos/Infnet/Notebooks/Projeto_z_sul/handling_academia_ginasio_estudio.csv'\n",
    "df_academia = pd.read_csv(academia, index_col=False)\n",
    "\n",
    "#cafeteria\n",
    "cafeteria = 'C:/Users/renan/OneDrive/Área de Trabalho/Estudos/Infnet/Notebooks/Projeto_z_sul/handling_cafeteria.csv'\n",
    "df_cafeteria = pd.read_csv(cafeteria)\n",
    "\n",
    "#educacao\n",
    "educacao = 'C:/Users/renan/OneDrive/Área de Trabalho/Estudos/Infnet/Notebooks/Projeto_z_sul/handling_educacao.csv'\n",
    "df_educacao = pd.read_csv(educacao)\n",
    "\n",
    "#hotel\n",
    "hotel = 'C:/Users/renan/OneDrive/Área de Trabalho/Estudos/Infnet/Notebooks/Projeto_z_sul/handling_hotel.csv'\n",
    "df_hotel = pd.read_csv(hotel)\n",
    "\n",
    "#padaria\n",
    "padaria = 'C:/Users/renan/OneDrive/Área de Trabalho/Estudos/Infnet/Notebooks/Projeto_z_sul/handling_padaria.csv'\n",
    "df_padaria = pd.read_csv(padaria)\n",
    "\n",
    "#restaurante\n",
    "restaurante = 'C:/Users/renan/OneDrive/Área de Trabalho/Estudos/Infnet/Notebooks/Projeto_z_sul/handling_restaurante.csv'\n",
    "df_restaurante = pd.read_csv(restaurante)\n",
    "\n",
    "#teat_cin\n",
    "teat_cin = 'C:/Users/renan/OneDrive/Área de Trabalho/Estudos/Infnet/Notebooks/Projeto_z_sul/handling_teatro_e_cinema.csv'\n",
    "df_teat_cin = pd.read_csv(teat_cin)"
   ]
  },
  {
   "cell_type": "markdown",
   "metadata": {},
   "source": [
    "#### Juntar planilhas de categorias e calcular distância dos estabelecimentos para o metrô."
   ]
  },
  {
   "cell_type": "code",
   "execution_count": 6,
   "metadata": {},
   "outputs": [],
   "source": [
    "# Dataframes por importância:\n",
    "df_append = [df_padaria, df_cafeteria, df_restaurante, df_academia, df_educacao, df_hotel, df_teat_cin]\n",
    "df_estab = pd.DataFrame()\n",
    "for df in df_append:\n",
    "    df_estab = df_estab.append(df)\n",
    "df_estab.drop(df_estab.columns[[0]],axis=1, inplace=True)"
   ]
  },
  {
   "cell_type": "code",
   "execution_count": 7,
   "metadata": {},
   "outputs": [
    {
     "data": {
      "text/html": [
       "<div>\n",
       "<style scoped>\n",
       "    .dataframe tbody tr th:only-of-type {\n",
       "        vertical-align: middle;\n",
       "    }\n",
       "\n",
       "    .dataframe tbody tr th {\n",
       "        vertical-align: top;\n",
       "    }\n",
       "\n",
       "    .dataframe thead th {\n",
       "        text-align: right;\n",
       "    }\n",
       "</style>\n",
       "<table border=\"1\" class=\"dataframe\">\n",
       "  <thead>\n",
       "    <tr style=\"text-align: right;\">\n",
       "      <th></th>\n",
       "      <th>name</th>\n",
       "      <th>estacao_nome</th>\n",
       "      <th>estacao_lat_lon</th>\n",
       "      <th>endereço</th>\n",
       "      <th>latitude</th>\n",
       "      <th>longitude</th>\n",
       "      <th>estabelecimento</th>\n",
       "    </tr>\n",
       "  </thead>\n",
       "  <tbody>\n",
       "    <tr>\n",
       "      <th>0</th>\n",
       "      <td>La Veronese</td>\n",
       "      <td>General Osório</td>\n",
       "      <td>-22.984610664497772,-43.19718307781211</td>\n",
       "      <td>Rua Visconde de Piraja, 29, Rio de Janeiro, RJ...</td>\n",
       "      <td>-22.984827</td>\n",
       "      <td>-43.19636</td>\n",
       "      <td>padaria</td>\n",
       "    </tr>\n",
       "  </tbody>\n",
       "</table>\n",
       "</div>"
      ],
      "text/plain": [
       "          name    estacao_nome                         estacao_lat_lon  \\\n",
       "0  La Veronese  General Osório  -22.984610664497772,-43.19718307781211   \n",
       "\n",
       "                                            endereço   latitude  longitude  \\\n",
       "0  Rua Visconde de Piraja, 29, Rio de Janeiro, RJ... -22.984827  -43.19636   \n",
       "\n",
       "  estabelecimento  \n",
       "0         padaria  "
      ]
     },
     "execution_count": 7,
     "metadata": {},
     "output_type": "execute_result"
    }
   ],
   "source": [
    "df_estab.head(1)"
   ]
  },
  {
   "cell_type": "code",
   "execution_count": 8,
   "metadata": {},
   "outputs": [],
   "source": [
    "df_estab['estacao_lat'], df_estab['estacao_lon'] = df_estab['estacao_lat_lon'].str.split(',', 1).str\n",
    "del df_estab['estacao_lat_lon']"
   ]
  },
  {
   "cell_type": "code",
   "execution_count": 9,
   "metadata": {},
   "outputs": [],
   "source": [
    "df_estab = df_estab[['name','endereço','estabelecimento','latitude','longitude','estacao_nome','estacao_lat','estacao_lon']]"
   ]
  },
  {
   "cell_type": "code",
   "execution_count": 10,
   "metadata": {},
   "outputs": [
    {
     "data": {
      "text/html": [
       "<div>\n",
       "<style scoped>\n",
       "    .dataframe tbody tr th:only-of-type {\n",
       "        vertical-align: middle;\n",
       "    }\n",
       "\n",
       "    .dataframe tbody tr th {\n",
       "        vertical-align: top;\n",
       "    }\n",
       "\n",
       "    .dataframe thead th {\n",
       "        text-align: right;\n",
       "    }\n",
       "</style>\n",
       "<table border=\"1\" class=\"dataframe\">\n",
       "  <thead>\n",
       "    <tr style=\"text-align: right;\">\n",
       "      <th></th>\n",
       "      <th>name</th>\n",
       "      <th>endereço</th>\n",
       "      <th>estabelecimento</th>\n",
       "      <th>latitude</th>\n",
       "      <th>longitude</th>\n",
       "      <th>estacao_nome</th>\n",
       "      <th>estacao_lat</th>\n",
       "      <th>estacao_lon</th>\n",
       "    </tr>\n",
       "  </thead>\n",
       "  <tbody>\n",
       "    <tr>\n",
       "      <th>0</th>\n",
       "      <td>La Veronese</td>\n",
       "      <td>Rua Visconde de Piraja, 29, Rio de Janeiro, RJ...</td>\n",
       "      <td>padaria</td>\n",
       "      <td>-22.984827</td>\n",
       "      <td>-43.19636</td>\n",
       "      <td>General Osório</td>\n",
       "      <td>-22.984610664497772</td>\n",
       "      <td>-43.19718307781211</td>\n",
       "    </tr>\n",
       "    <tr>\n",
       "      <th>1</th>\n",
       "      <td>Padaria Santa Marta</td>\n",
       "      <td>Avenida Epitácio Pessoa, 1789, Rio de Janeiro, RJ</td>\n",
       "      <td>padaria</td>\n",
       "      <td>-22.978994</td>\n",
       "      <td>-43.20080</td>\n",
       "      <td>General Osório</td>\n",
       "      <td>-22.984610664497772</td>\n",
       "      <td>-43.19718307781211</td>\n",
       "    </tr>\n",
       "  </tbody>\n",
       "</table>\n",
       "</div>"
      ],
      "text/plain": [
       "                  name                                           endereço  \\\n",
       "0          La Veronese  Rua Visconde de Piraja, 29, Rio de Janeiro, RJ...   \n",
       "1  Padaria Santa Marta  Avenida Epitácio Pessoa, 1789, Rio de Janeiro, RJ   \n",
       "\n",
       "  estabelecimento   latitude  longitude    estacao_nome          estacao_lat  \\\n",
       "0         padaria -22.984827  -43.19636  General Osório  -22.984610664497772   \n",
       "1         padaria -22.978994  -43.20080  General Osório  -22.984610664497772   \n",
       "\n",
       "          estacao_lon  \n",
       "0  -43.19718307781211  \n",
       "1  -43.19718307781211  "
      ]
     },
     "execution_count": 10,
     "metadata": {},
     "output_type": "execute_result"
    }
   ],
   "source": [
    "df_estab.head(2)"
   ]
  },
  {
   "cell_type": "code",
   "execution_count": 11,
   "metadata": {},
   "outputs": [
    {
     "data": {
      "text/plain": [
       "(2182, 8)"
      ]
     },
     "execution_count": 11,
     "metadata": {},
     "output_type": "execute_result"
    }
   ],
   "source": [
    "df_estab.shape"
   ]
  },
  {
   "cell_type": "code",
   "execution_count": 12,
   "metadata": {},
   "outputs": [
    {
     "name": "stdout",
     "output_type": "stream",
     "text": [
      "<class 'pandas.core.frame.DataFrame'>\n",
      "Int64Index: 2182 entries, 0 to 166\n",
      "Data columns (total 8 columns):\n",
      " #   Column           Non-Null Count  Dtype  \n",
      "---  ------           --------------  -----  \n",
      " 0   name             2182 non-null   object \n",
      " 1   endereço         2089 non-null   object \n",
      " 2   estabelecimento  2182 non-null   object \n",
      " 3   latitude         2182 non-null   float64\n",
      " 4   longitude        2182 non-null   float64\n",
      " 5   estacao_nome     2182 non-null   object \n",
      " 6   estacao_lat      2182 non-null   object \n",
      " 7   estacao_lon      2182 non-null   object \n",
      "dtypes: float64(2), object(6)\n",
      "memory usage: 153.4+ KB\n"
     ]
    }
   ],
   "source": [
    "df_estab.info()"
   ]
  },
  {
   "cell_type": "code",
   "execution_count": 13,
   "metadata": {},
   "outputs": [],
   "source": [
    "df_estab['estacao_lat'] = df_estab['estacao_lat'].astype(float)\n",
    "df_estab['estacao_lon'] = df_estab['estacao_lon'].astype(float)"
   ]
  },
  {
   "cell_type": "code",
   "execution_count": 14,
   "metadata": {},
   "outputs": [],
   "source": [
    "distancia = []\n",
    "df_test = df_estab[['latitude', 'longitude', 'estacao_lat', 'estacao_lon']]\n",
    "for idx, row in df_test.iterrows():\n",
    "    distancia.append(haversine(row[0:2], row[2:4], unit='m'))"
   ]
  },
  {
   "cell_type": "code",
   "execution_count": 15,
   "metadata": {},
   "outputs": [],
   "source": [
    "df_estab['distancia'] = distancia\n",
    "df_estab['distancia'] = df_estab['distancia'].astype(int)"
   ]
  },
  {
   "cell_type": "code",
   "execution_count": 16,
   "metadata": {},
   "outputs": [
    {
     "data": {
      "text/plain": [
       "(2182, 9)"
      ]
     },
     "execution_count": 16,
     "metadata": {},
     "output_type": "execute_result"
    }
   ],
   "source": [
    "df_estab.shape"
   ]
  },
  {
   "cell_type": "code",
   "execution_count": 17,
   "metadata": {},
   "outputs": [],
   "source": [
    "df_estab = df_estab.sort_values(\"distancia\", ascending = True).drop_duplicates(subset=['name','endereço','latitude','longitude'], keep=\"first\")"
   ]
  },
  {
   "cell_type": "code",
   "execution_count": 28,
   "metadata": {},
   "outputs": [
    {
     "data": {
      "text/plain": [
       "(1169, 9)"
      ]
     },
     "execution_count": 28,
     "metadata": {},
     "output_type": "execute_result"
    }
   ],
   "source": [
    "df_estab.shape"
   ]
  },
  {
   "cell_type": "code",
   "execution_count": 19,
   "metadata": {},
   "outputs": [],
   "source": [
    "df_estab.sort_index(ascending=True, inplace=True)"
   ]
  },
  {
   "cell_type": "code",
   "execution_count": 20,
   "metadata": {},
   "outputs": [
    {
     "data": {
      "text/html": [
       "<div>\n",
       "<style scoped>\n",
       "    .dataframe tbody tr th:only-of-type {\n",
       "        vertical-align: middle;\n",
       "    }\n",
       "\n",
       "    .dataframe tbody tr th {\n",
       "        vertical-align: top;\n",
       "    }\n",
       "\n",
       "    .dataframe thead th {\n",
       "        text-align: right;\n",
       "    }\n",
       "</style>\n",
       "<table border=\"1\" class=\"dataframe\">\n",
       "  <thead>\n",
       "    <tr style=\"text-align: right;\">\n",
       "      <th></th>\n",
       "      <th>name</th>\n",
       "      <th>endereço</th>\n",
       "      <th>estabelecimento</th>\n",
       "      <th>latitude</th>\n",
       "      <th>longitude</th>\n",
       "      <th>estacao_nome</th>\n",
       "      <th>estacao_lat</th>\n",
       "      <th>estacao_lon</th>\n",
       "      <th>distancia</th>\n",
       "    </tr>\n",
       "  </thead>\n",
       "  <tbody>\n",
       "    <tr>\n",
       "      <th>0</th>\n",
       "      <td>Brasas</td>\n",
       "      <td>Rua Pompeu Loureiro, 41, Rio de Janeiro, RJ, 2...</td>\n",
       "      <td>educação</td>\n",
       "      <td>-22.973412</td>\n",
       "      <td>-43.19220</td>\n",
       "      <td>General Osório</td>\n",
       "      <td>-22.984611</td>\n",
       "      <td>-43.197183</td>\n",
       "      <td>1345</td>\n",
       "    </tr>\n",
       "    <tr>\n",
       "      <th>0</th>\n",
       "      <td>Academia do Tap</td>\n",
       "      <td>Rua Visconde de Pirajá, 235, Rio de Janeiro, R...</td>\n",
       "      <td>academia_ginasio_estudio</td>\n",
       "      <td>-22.984525</td>\n",
       "      <td>-43.20231</td>\n",
       "      <td>General Osório</td>\n",
       "      <td>-22.984611</td>\n",
       "      <td>-43.197183</td>\n",
       "      <td>524</td>\n",
       "    </tr>\n",
       "    <tr>\n",
       "      <th>0</th>\n",
       "      <td>La Veronese</td>\n",
       "      <td>Rua Visconde de Piraja, 29, Rio de Janeiro, RJ...</td>\n",
       "      <td>padaria</td>\n",
       "      <td>-22.984827</td>\n",
       "      <td>-43.19636</td>\n",
       "      <td>General Osório</td>\n",
       "      <td>-22.984611</td>\n",
       "      <td>-43.197183</td>\n",
       "      <td>87</td>\n",
       "    </tr>\n",
       "    <tr>\n",
       "      <th>0</th>\n",
       "      <td>Mercearia da Praça</td>\n",
       "      <td>Rua Jangadeiros, 28, Ljs. A/B (Pç. Gen. Osório...</td>\n",
       "      <td>restaurante</td>\n",
       "      <td>-22.984848</td>\n",
       "      <td>-43.19680</td>\n",
       "      <td>General Osório</td>\n",
       "      <td>-22.984611</td>\n",
       "      <td>-43.197183</td>\n",
       "      <td>47</td>\n",
       "    </tr>\n",
       "    <tr>\n",
       "      <th>0</th>\n",
       "      <td>Hotel Fasano Rio de Janeiro</td>\n",
       "      <td>Avenida Vieira Souto, 80, Rio de Janeiro, RJ, ...</td>\n",
       "      <td>hotel</td>\n",
       "      <td>-22.987191</td>\n",
       "      <td>-43.19624</td>\n",
       "      <td>General Osório</td>\n",
       "      <td>-22.984611</td>\n",
       "      <td>-43.197183</td>\n",
       "      <td>302</td>\n",
       "    </tr>\n",
       "  </tbody>\n",
       "</table>\n",
       "</div>"
      ],
      "text/plain": [
       "                          name  \\\n",
       "0                       Brasas   \n",
       "0              Academia do Tap   \n",
       "0                  La Veronese   \n",
       "0           Mercearia da Praça   \n",
       "0  Hotel Fasano Rio de Janeiro   \n",
       "\n",
       "                                            endereço  \\\n",
       "0  Rua Pompeu Loureiro, 41, Rio de Janeiro, RJ, 2...   \n",
       "0  Rua Visconde de Pirajá, 235, Rio de Janeiro, R...   \n",
       "0  Rua Visconde de Piraja, 29, Rio de Janeiro, RJ...   \n",
       "0  Rua Jangadeiros, 28, Ljs. A/B (Pç. Gen. Osório...   \n",
       "0  Avenida Vieira Souto, 80, Rio de Janeiro, RJ, ...   \n",
       "\n",
       "            estabelecimento   latitude  longitude    estacao_nome  \\\n",
       "0                  educação -22.973412  -43.19220  General Osório   \n",
       "0  academia_ginasio_estudio -22.984525  -43.20231  General Osório   \n",
       "0                   padaria -22.984827  -43.19636  General Osório   \n",
       "0               restaurante -22.984848  -43.19680  General Osório   \n",
       "0                     hotel -22.987191  -43.19624  General Osório   \n",
       "\n",
       "   estacao_lat  estacao_lon  distancia  \n",
       "0   -22.984611   -43.197183       1345  \n",
       "0   -22.984611   -43.197183        524  \n",
       "0   -22.984611   -43.197183         87  \n",
       "0   -22.984611   -43.197183         47  \n",
       "0   -22.984611   -43.197183        302  "
      ]
     },
     "execution_count": 20,
     "metadata": {},
     "output_type": "execute_result"
    }
   ],
   "source": [
    "df_estab.head()"
   ]
  },
  {
   "cell_type": "code",
   "execution_count": 25,
   "metadata": {},
   "outputs": [
    {
     "data": {
      "text/plain": [
       "estabelecimento           estacao_nome      \n",
       "academia_ginasio_estudio  Botafogo              44\n",
       "                          Cantagalo             20\n",
       "                          Cardeal Arco Verde    23\n",
       "                          Catete                20\n",
       "                          Flamengo              25\n",
       "                          General Osório        44\n",
       "                          Largo do Machado      21\n",
       "                          Siqueira Campos       19\n",
       "cafeteria                 Botafogo               4\n",
       "                          Cardeal Arco Verde     2\n",
       "                          Catete                 1\n",
       "                          Flamengo               2\n",
       "educação                  Botafogo              38\n",
       "                          Cantagalo             29\n",
       "                          Cardeal Arco Verde    25\n",
       "                          Catete                32\n",
       "                          Flamengo              31\n",
       "                          General Osório        42\n",
       "                          Largo do Machado      15\n",
       "                          Siqueira Campos       26\n",
       "hotel                     Botafogo              36\n",
       "                          Cantagalo             18\n",
       "                          Cardeal Arco Verde    28\n",
       "                          Catete                43\n",
       "                          Flamengo              25\n",
       "                          General Osório        34\n",
       "                          Largo do Machado      17\n",
       "                          Siqueira Campos       19\n",
       "padaria                   Botafogo              44\n",
       "                          Cantagalo             22\n",
       "                          Cardeal Arco Verde    16\n",
       "                          Catete                22\n",
       "                          Flamengo              26\n",
       "                          General Osório        33\n",
       "                          Largo do Machado      15\n",
       "                          Siqueira Campos       21\n",
       "restaurante               Botafogo              42\n",
       "                          Cantagalo             19\n",
       "                          Cardeal Arco Verde    19\n",
       "                          Catete                27\n",
       "                          Flamengo              19\n",
       "                          General Osório        44\n",
       "                          Largo do Machado      24\n",
       "                          Siqueira Campos       16\n",
       "teatro_e_cinema           Botafogo              25\n",
       "                          Cantagalo              3\n",
       "                          Cardeal Arco Verde    10\n",
       "                          Catete                13\n",
       "                          Flamengo               5\n",
       "                          General Osório         7\n",
       "                          Largo do Machado       9\n",
       "                          Siqueira Campos        5\n",
       "Name: estacao_nome, dtype: int64"
      ]
     },
     "execution_count": 25,
     "metadata": {},
     "output_type": "execute_result"
    }
   ],
   "source": [
    "df_estab.groupby(['estabelecimento','estacao_nome'])['estacao_nome'].count()"
   ]
  },
  {
   "cell_type": "code",
   "execution_count": 26,
   "metadata": {},
   "outputs": [
    {
     "data": {
      "text/plain": [
       "estacao_nome        estabelecimento         \n",
       "Botafogo            academia_ginasio_estudio    44\n",
       "                    cafeteria                    4\n",
       "                    educação                    38\n",
       "                    hotel                       36\n",
       "                    padaria                     44\n",
       "                    restaurante                 42\n",
       "                    teatro_e_cinema             25\n",
       "Cantagalo           academia_ginasio_estudio    20\n",
       "                    educação                    29\n",
       "                    hotel                       18\n",
       "                    padaria                     22\n",
       "                    restaurante                 19\n",
       "                    teatro_e_cinema              3\n",
       "Cardeal Arco Verde  academia_ginasio_estudio    23\n",
       "                    cafeteria                    2\n",
       "                    educação                    25\n",
       "                    hotel                       28\n",
       "                    padaria                     16\n",
       "                    restaurante                 19\n",
       "                    teatro_e_cinema             10\n",
       "Catete              academia_ginasio_estudio    20\n",
       "                    cafeteria                    1\n",
       "                    educação                    32\n",
       "                    hotel                       43\n",
       "                    padaria                     22\n",
       "                    restaurante                 27\n",
       "                    teatro_e_cinema             13\n",
       "Flamengo            academia_ginasio_estudio    25\n",
       "                    cafeteria                    2\n",
       "                    educação                    31\n",
       "                    hotel                       25\n",
       "                    padaria                     26\n",
       "                    restaurante                 19\n",
       "                    teatro_e_cinema              5\n",
       "General Osório      academia_ginasio_estudio    44\n",
       "                    educação                    42\n",
       "                    hotel                       34\n",
       "                    padaria                     33\n",
       "                    restaurante                 44\n",
       "                    teatro_e_cinema              7\n",
       "Largo do Machado    academia_ginasio_estudio    21\n",
       "                    educação                    15\n",
       "                    hotel                       17\n",
       "                    padaria                     15\n",
       "                    restaurante                 24\n",
       "                    teatro_e_cinema              9\n",
       "Siqueira Campos     academia_ginasio_estudio    19\n",
       "                    educação                    26\n",
       "                    hotel                       19\n",
       "                    padaria                     21\n",
       "                    restaurante                 16\n",
       "                    teatro_e_cinema              5\n",
       "Name: estabelecimento, dtype: int64"
      ]
     },
     "execution_count": 26,
     "metadata": {},
     "output_type": "execute_result"
    }
   ],
   "source": [
    "df_estab.groupby(['estacao_nome','estabelecimento'])['estabelecimento'].count()"
   ]
  },
  {
   "cell_type": "code",
   "execution_count": 27,
   "metadata": {},
   "outputs": [
    {
     "data": {
      "text/html": [
       "<div>\n",
       "<style scoped>\n",
       "    .dataframe tbody tr th:only-of-type {\n",
       "        vertical-align: middle;\n",
       "    }\n",
       "\n",
       "    .dataframe tbody tr th {\n",
       "        vertical-align: top;\n",
       "    }\n",
       "\n",
       "    .dataframe thead th {\n",
       "        text-align: right;\n",
       "    }\n",
       "</style>\n",
       "<table border=\"1\" class=\"dataframe\">\n",
       "  <thead>\n",
       "    <tr style=\"text-align: right;\">\n",
       "      <th></th>\n",
       "      <th>name</th>\n",
       "      <th>count</th>\n",
       "    </tr>\n",
       "  </thead>\n",
       "  <tbody>\n",
       "    <tr>\n",
       "      <th>989</th>\n",
       "      <td>Smart Fit</td>\n",
       "      <td>15</td>\n",
       "    </tr>\n",
       "    <tr>\n",
       "      <th>201</th>\n",
       "      <td>Bodytech</td>\n",
       "      <td>7</td>\n",
       "    </tr>\n",
       "    <tr>\n",
       "      <th>8</th>\n",
       "      <td>Academia</td>\n",
       "      <td>5</td>\n",
       "    </tr>\n",
       "    <tr>\n",
       "      <th>644</th>\n",
       "      <td>Kinoplex</td>\n",
       "      <td>4</td>\n",
       "    </tr>\n",
       "    <tr>\n",
       "      <th>210</th>\n",
       "      <td>Boteco Belmonte</td>\n",
       "      <td>4</td>\n",
       "    </tr>\n",
       "  </tbody>\n",
       "</table>\n",
       "</div>"
      ],
      "text/plain": [
       "                name  count\n",
       "989        Smart Fit     15\n",
       "201         Bodytech      7\n",
       "8           Academia      5\n",
       "644         Kinoplex      4\n",
       "210  Boteco Belmonte      4"
      ]
     },
     "execution_count": 27,
     "metadata": {},
     "output_type": "execute_result"
    }
   ],
   "source": [
    "df_estab[['name','estacao_nome',]].groupby(['name']) ['estacao_nome'] \\\n",
    "                             .count() \\\n",
    "                             .reset_index(name='count') \\\n",
    "                             .sort_values(['count'], ascending=False) \\\n",
    "                             .head(5)"
   ]
  },
  {
   "cell_type": "code",
   "execution_count": 29,
   "metadata": {},
   "outputs": [],
   "source": [
    "df_estab.to_csv(\"2_not_agrup_trat.csv\")"
   ]
  }
 ],
 "metadata": {
  "interpreter": {
   "hash": "5f2ef88ee5f4ee547885185d81f6797a12ae2dec75b41b10e8ecc54610239640"
  },
  "kernelspec": {
   "display_name": "Python 3.10.4 64-bit",
   "language": "python",
   "name": "python3"
  },
  "language_info": {
   "codemirror_mode": {
    "name": "ipython",
    "version": 3
   },
   "file_extension": ".py",
   "mimetype": "text/x-python",
   "name": "python",
   "nbconvert_exporter": "python",
   "pygments_lexer": "ipython3",
   "version": "3.10.4"
  },
  "orig_nbformat": 4
 },
 "nbformat": 4,
 "nbformat_minor": 2
}
