{
  "cells": [
    {
      "cell_type": "markdown",
      "metadata": {
        "id": "iQHySWK9uEJe"
      },
      "source": [
        "## Importar Bibliotecas:"
      ]
    },
    {
      "cell_type": "markdown",
      "metadata": {
        "id": "iWSGUcw__rtr"
      },
      "source": [
        "### Pip install"
      ]
    },
    {
      "cell_type": "markdown",
      "metadata": {
        "id": "vLvFdAhi_ruG"
      },
      "source": [
        "### Bibliotecas"
      ]
    },
    {
      "cell_type": "code",
      "execution_count": 1,
      "metadata": {
        "colab": {
          "base_uri": "https://localhost:8080/"
        },
        "id": "38gJCEV5ImqL",
        "outputId": "b13576d2-4de1-4fd2-f49d-35c80d51e2ce"
      },
      "outputs": [
        {
          "name": "stdout",
          "output_type": "stream",
          "text": [
            "Libraries imported\n"
          ]
        }
      ],
      "source": [
        "import warnings\n",
        "warnings.filterwarnings(\"ignore\")\n",
        "\n",
        "import numpy as np\n",
        "import requests\n",
        "import re\n",
        "import folium\n",
        "#import wget\n",
        "import geopy\n",
        "import ast\n",
        "import folium\n",
        "from folium.plugins import MarkerCluster\n",
        "from folium.plugins import MousePosition\n",
        "from folium.features import DivIcon\n",
        "\n",
        "import time\n",
        "import json\n",
        "#import parser\n",
        "\n",
        "import pandas as pd\n",
        "from pandas import json_normalize\n",
        "\n",
        "from geopy.geocoders import Nominatim\n",
        "\n",
        "#from bs4 import BeautifulSoup\n",
        "\n",
        "import sys\n",
        "sys.setrecursionlimit(2000)\n",
        "\n",
        "# Show all Columns and Rows\n",
        "pd.set_option(\"display.max_columns\", None)\n",
        "pd.set_option(\"display.max_rows\", None)\n",
        "\n",
        "print('Libraries imported')"
      ]
    },
    {
      "cell_type": "code",
      "execution_count": 2,
      "metadata": {
        "id": "if9QonA5_ruL"
      },
      "outputs": [],
      "source": [
        "#path = \"C:/Users/renan/OneDrive/Área de Trabalho/Estudos/Infnet/Notebooks/location_snackbar.csv\"\n",
        "#dfv = pd.read_csv(path)"
      ]
    },
    {
      "cell_type": "markdown",
      "metadata": {
        "id": "2fRYcqC0dou8"
      },
      "source": [
        "## Extração dos dados do foursquare e localização das estações de metrô."
      ]
    },
    {
      "cell_type": "markdown",
      "metadata": {
        "id": "ZaDMnxCNuSPk"
      },
      "source": [
        "### Mapeamento das Estações"
      ]
    },
    {
      "cell_type": "code",
      "execution_count": 3,
      "metadata": {
        "colab": {
          "base_uri": "https://localhost:8080/"
        },
        "id": "szysZRUlnob0",
        "outputId": "b0cc02c8-2350-4896-e90a-f7782c12347c"
      },
      "outputs": [
        {
          "data": {
            "text/plain": [
              "{'Catete': '-22.925580460005982,-43.1766003091964',\n",
              " 'Largo do Machado': '-22.930651090814383,-43.17832974593375',\n",
              " 'Flamengo': '-22.93684861832403,-43.17829091934274',\n",
              " 'Botafogo': '-22.950622880463147,-43.18405212488933',\n",
              " 'Cardeal Arco Verde': '-22.96361994621739,-43.18083122492285',\n",
              " 'Siqueira Campos': '-22.966722295911186,-43.18649393180904',\n",
              " 'Cantagalo': '-22.976112641984226,-43.192580445299605',\n",
              " 'General Osório': '-22.984610664497772,-43.19718307781211'}"
            ]
          },
          "execution_count": 3,
          "metadata": {},
          "output_type": "execute_result"
        }
      ],
      "source": [
        "station_dict = {'Catete' : '-22.925580460005982,-43.1766003091964',\n",
        "                'Largo do Machado' : '-22.930651090814383,-43.17832974593375',\n",
        "                'Flamengo' : '-22.93684861832403,-43.17829091934274',\n",
        "                'Botafogo' : '-22.950622880463147,-43.18405212488933',\n",
        "                'Cardeal Arco Verde' : '-22.96361994621739,-43.18083122492285',\n",
        "                'Siqueira Campos' : '-22.966722295911186,-43.18649393180904',\n",
        "                'Cantagalo' : '-22.976112641984226,-43.192580445299605',\n",
        "                'General Osório' : '-22.984610664497772,-43.19718307781211'}\n",
        "station_dict"
      ]
    },
    {
      "cell_type": "code",
      "execution_count": 4,
      "metadata": {
        "id": "_MG_HSMc_ruQ",
        "outputId": "79fe268b-6000-4e5f-f252-28ff9b21d297"
      },
      "outputs": [
        {
          "name": "stdout",
          "output_type": "stream",
          "text": [
            "{'Catete': '-22.925580460005982,-43.1766003091964', 'Largo do Machado': '-22.930651090814383,-43.17832974593375', 'Flamengo': '-22.93684861832403,-43.17829091934274', 'Botafogo': '-22.950622880463147,-43.18405212488933', 'Cardeal Arco Verde': '-22.96361994621739,-43.18083122492285', 'Siqueira Campos': '-22.966722295911186,-43.18649393180904', 'Cantagalo': '-22.976112641984226,-43.192580445299605', 'General Osório': '-22.984610664497772,-43.19718307781211'}\n"
          ]
        }
      ],
      "source": [
        "print(station_dict)"
      ]
    },
    {
      "cell_type": "markdown",
      "metadata": {
        "id": "jE1U7X04uWDF"
      },
      "source": [
        "### Categoria dos Negócios"
      ]
    },
    {
      "cell_type": "code",
      "execution_count": 5,
      "metadata": {
        "colab": {
          "base_uri": "https://localhost:8080/"
        },
        "id": "IKCEf6t8iAJl",
        "outputId": "e672d540-260b-4dbc-a8d1-dce1af3c482b"
      },
      "outputs": [
        {
          "data": {
            "text/plain": [
              "[13002, 'Bakery']"
            ]
          },
          "execution_count": 5,
          "metadata": {},
          "output_type": "execute_result"
        }
      ],
      "source": [
        "# Categorias de Negócios\n",
        "\n",
        "category = [13002,'Bakery']\n",
        "\n",
        "'''\n",
        "Guia das categorias:\n",
        "\n",
        "https://developer.foursquare.com/docs/categories\n",
        "'''\n",
        "\n",
        "## ID Categorias de Negócios\n",
        "\n",
        "category"
      ]
    },
    {
      "cell_type": "markdown",
      "metadata": {
        "id": "3IXvv4MeujKF"
      },
      "source": [
        "### Requisições múltiplas"
      ]
    },
    {
      "cell_type": "code",
      "execution_count": 6,
      "metadata": {
        "id": "hOJ8rOO7IyTv"
      },
      "outputs": [],
      "source": [
        "# Chaves para acesso:\n",
        "\n",
        "client_id = 'xxxxxxxxxxxxxxxxxxxxxxxxxxxxx'\n",
        "client_secret = 'xxxxxxxxxxxxxxxxxxxxxxxxxxxxx'\n",
        "oauth_token = 'xxxxxxxxxxxxxxxxxxxxxxxxxxxxx'\n",
        "radius = 50\n",
        "limit = 50\n",
        "# categories\n",
        "# latitude\n",
        "# longitude"
      ]
    },
    {
      "cell_type": "code",
      "execution_count": 7,
      "metadata": {
        "id": "gertkAlgynBP"
      },
      "outputs": [],
      "source": [
        "def make_request(url):\n",
        "  headers = {\n",
        "      \"Accept\": \"application/json\",\n",
        "      \"Authorization\": \"xxxxxxxxxxxxxxxxxxxxxxxxxxxxx\"\n",
        "  }\n",
        "  response = requests.request(\"GET\", url, headers=headers)\n",
        "  return response\n",
        "\n",
        "def get_next_url(response):\n",
        "  try:\n",
        "    return re.findall(\"<(.*?)>\", response.headers[\"Link\"])[0]\n",
        "  except (KeyError, IndexError):\n",
        "    return None\n",
        "\n",
        "def get_nearby_venues_data(station_dict):\n",
        "  json_list = []\n",
        "  url = f\"https://api.foursquare.com/v3/places/search?ll={station_dict}&radius=1500&categories=13002&fields=fsq_id%2Cname%2Cgeocodes%2Clocation%2Ccategories&limit=50\"\n",
        "\n",
        "  while url != None:\n",
        "    response = make_request(url)\n",
        "    json_file = response.json()\n",
        "    json_list.append(json_file)\n",
        "    \n",
        "    url = get_next_url(response)\n",
        "    time.sleep(0.1)\n",
        "    print(url)\n",
        "    print(response.headers)\n",
        "\n",
        "  return json_list\n",
        "\n",
        "def get_venues_data():\n",
        "  df_venues = pd.DataFrame()\n",
        "  for station, lat_lon in station_dict.items():\n",
        "    response = get_nearby_venues_data(lat_lon)\n",
        "    df_temp = pd.DataFrame.from_dict(response[0]['results'])\n",
        "    df_temp['estacao_nome'] = station\n",
        "    df_temp['estacao_lat_lon'] = lat_lon\n",
        "    df_venues = pd.concat([df_temp, df_venues], axis=0)\n",
        "  return df_venues"
      ]
    },
    {
      "cell_type": "code",
      "execution_count": 8,
      "metadata": {
        "colab": {
          "base_uri": "https://localhost:8080/"
        },
        "id": "2XsKR2ZI0JK1",
        "outputId": "8f48777e-11aa-4606-8a26-a1a2036b0ad3"
      },
      "outputs": [
        {
          "name": "stdout",
          "output_type": "stream",
          "text": [
            "https://api.foursquare.com/v3/places/search?cursor=c3I6NTA&radius=1500&ll=-22.925580460005982%2C-43.1766003091964&fields=fsq_id%2Cname%2Cgeocodes%2Clocation%2Ccategories&categories=13002&limit=50\n",
            "{'Connection': 'keep-alive', 'Content-Length': '4031', 'Content-Type': 'application/json; charset=utf-8', 'Link': '<https://api.foursquare.com/v3/places/search?cursor=c3I6NTA&radius=1500&ll=-22.925580460005982%2C-43.1766003091964&fields=fsq_id%2Cname%2Cgeocodes%2Clocation%2Ccategories&categories=13002&limit=50>; rel=\"next\"', 'Server': 'Finatra', 'X-Fsq-Request-ID': '626f3d59d8319606a5056482', 'X-RateLimit-Path': '/v3/places/search', 'X-RateLimit-Limit': '0', 'X-RateLimit-Remaining': '0', 'content-encoding': 'gzip', 'Accept-Ranges': 'bytes', 'Date': 'Mon, 02 May 2022 02:09:29 GMT', 'Via': '1.1 varnish', 'X-Served-By': 'cache-gig2250030-GIG', 'X-Cache': 'MISS', 'X-Cache-Hits': '0', 'X-Timer': 'S1651457369.735984,VS0,VE822', 'Vary': 'Origin'}\n",
            "None\n",
            "{'Connection': 'keep-alive', 'Content-Length': '1368', 'Content-Type': 'application/json; charset=utf-8', 'Server': 'Finatra', 'X-Fsq-Request-ID': '626f3d5a2dffa97056bd3a82', 'X-RateLimit-Path': '/v3/places/search', 'X-RateLimit-Limit': '0', 'X-RateLimit-Remaining': '0', 'content-encoding': 'gzip', 'Accept-Ranges': 'bytes', 'Date': 'Mon, 02 May 2022 02:09:30 GMT', 'Via': '1.1 varnish', 'X-Served-By': 'cache-gig2250039-GIG', 'X-Cache': 'MISS', 'X-Cache-Hits': '0', 'X-Timer': 'S1651457370.731063,VS0,VE716', 'Vary': 'Origin'}\n",
            "https://api.foursquare.com/v3/places/search?cursor=c3I6NTA&radius=1500&ll=-22.930651090814383%2C-43.17832974593375&fields=fsq_id%2Cname%2Cgeocodes%2Clocation%2Ccategories&categories=13002&limit=50\n",
            "{'Connection': 'keep-alive', 'Content-Length': '3927', 'Content-Type': 'application/json; charset=utf-8', 'Link': '<https://api.foursquare.com/v3/places/search?cursor=c3I6NTA&radius=1500&ll=-22.930651090814383%2C-43.17832974593375&fields=fsq_id%2Cname%2Cgeocodes%2Clocation%2Ccategories&categories=13002&limit=50>; rel=\"next\"', 'Server': 'Finatra', 'X-Fsq-Request-ID': '626f3d5b51702108bb9c4a63', 'X-RateLimit-Path': '/v3/places/search', 'X-RateLimit-Limit': '0', 'X-RateLimit-Remaining': '0', 'content-encoding': 'gzip', 'Accept-Ranges': 'bytes', 'Date': 'Mon, 02 May 2022 02:09:31 GMT', 'Via': '1.1 varnish', 'X-Served-By': 'cache-gig2250055-GIG', 'X-Cache': 'MISS', 'X-Cache-Hits': '0', 'X-Timer': 'S1651457371.626640,VS0,VE661', 'Vary': 'Origin'}\n",
            "None\n",
            "{'Connection': 'keep-alive', 'Content-Length': '1449', 'Content-Type': 'application/json; charset=utf-8', 'Server': 'Finatra', 'X-Fsq-Request-ID': '626f3d5b938dec159f3862cd', 'X-RateLimit-Path': '/v3/places/search', 'X-RateLimit-Limit': '0', 'X-RateLimit-Remaining': '0', 'content-encoding': 'gzip', 'Accept-Ranges': 'bytes', 'Date': 'Mon, 02 May 2022 02:09:32 GMT', 'Via': '1.1 varnish', 'X-Served-By': 'cache-gig2250045-GIG', 'X-Cache': 'MISS', 'X-Cache-Hits': '0', 'X-Timer': 'S1651457371.456294,VS0,VE665', 'Vary': 'Origin'}\n",
            "https://api.foursquare.com/v3/places/search?cursor=c3I6NTA&radius=1500&ll=-22.93684861832403%2C-43.17829091934274&fields=fsq_id%2Cname%2Cgeocodes%2Clocation%2Ccategories&categories=13002&limit=50\n",
            "{'Connection': 'keep-alive', 'Content-Length': '3924', 'Content-Type': 'application/json; charset=utf-8', 'Link': '<https://api.foursquare.com/v3/places/search?cursor=c3I6NTA&radius=1500&ll=-22.93684861832403%2C-43.17829091934274&fields=fsq_id%2Cname%2Cgeocodes%2Clocation%2Ccategories&categories=13002&limit=50>; rel=\"next\"', 'Server': 'Finatra', 'X-Fsq-Request-ID': '626f3d5c8b9f6b2e871f3885', 'X-RateLimit-Path': '/v3/places/search', 'X-RateLimit-Limit': '0', 'X-RateLimit-Remaining': '0', 'content-encoding': 'gzip', 'Accept-Ranges': 'bytes', 'Date': 'Mon, 02 May 2022 02:09:33 GMT', 'Via': '1.1 varnish', 'X-Served-By': 'cache-gig2250062-GIG', 'X-Cache': 'MISS', 'X-Cache-Hits': '0', 'X-Timer': 'S1651457372.333713,VS0,VE684', 'Vary': 'Origin'}\n",
            "None\n",
            "{'Connection': 'keep-alive', 'Content-Length': '1773', 'Content-Type': 'application/json; charset=utf-8', 'Server': 'Finatra', 'X-Fsq-Request-ID': '626f3d5dd8319606a50564bb', 'X-RateLimit-Path': '/v3/places/search', 'X-RateLimit-Limit': '0', 'X-RateLimit-Remaining': '0', 'content-encoding': 'gzip', 'Accept-Ranges': 'bytes', 'Date': 'Mon, 02 May 2022 02:09:33 GMT', 'Via': '1.1 varnish', 'X-Served-By': 'cache-gig2250038-GIG', 'X-Cache': 'MISS', 'X-Cache-Hits': '0', 'X-Timer': 'S1651457373.198811,VS0,VE694', 'Vary': 'Origin'}\n",
            "https://api.foursquare.com/v3/places/search?cursor=c3I6NTA&radius=1500&ll=-22.950622880463147%2C-43.18405212488933&fields=fsq_id%2Cname%2Cgeocodes%2Clocation%2Ccategories&categories=13002&limit=50\n",
            "{'Connection': 'keep-alive', 'Content-Length': '3883', 'Content-Type': 'application/json; charset=utf-8', 'Link': '<https://api.foursquare.com/v3/places/search?cursor=c3I6NTA&radius=1500&ll=-22.950622880463147%2C-43.18405212488933&fields=fsq_id%2Cname%2Cgeocodes%2Clocation%2Ccategories&categories=13002&limit=50>; rel=\"next\"', 'Server': 'Finatra', 'X-Fsq-Request-ID': '626f3d5e2de53c7e67e2b303', 'X-RateLimit-Path': '/v3/places/search', 'X-RateLimit-Limit': '0', 'X-RateLimit-Remaining': '0', 'content-encoding': 'gzip', 'Accept-Ranges': 'bytes', 'Date': 'Mon, 02 May 2022 02:09:34 GMT', 'Via': '1.1 varnish', 'X-Served-By': 'cache-gig2250067-GIG', 'X-Cache': 'MISS', 'X-Cache-Hits': '0', 'X-Timer': 'S1651457374.059616,VS0,VE715', 'Vary': 'Origin'}\n",
            "None\n",
            "{'Connection': 'keep-alive', 'Content-Length': '1660', 'Content-Type': 'application/json; charset=utf-8', 'Server': 'Finatra', 'X-Fsq-Request-ID': '626f3d5f23b8c831d44f7db3', 'X-RateLimit-Path': '/v3/places/search', 'X-RateLimit-Limit': '0', 'X-RateLimit-Remaining': '0', 'content-encoding': 'gzip', 'Accept-Ranges': 'bytes', 'Date': 'Mon, 02 May 2022 02:09:35 GMT', 'Via': '1.1 varnish', 'X-Served-By': 'cache-gig2250025-GIG', 'X-Cache': 'MISS', 'X-Cache-Hits': '0', 'X-Timer': 'S1651457375.938347,VS0,VE672', 'Vary': 'Origin'}\n",
            "https://api.foursquare.com/v3/places/search?cursor=c3I6NTA&radius=1500&ll=-22.96361994621739%2C-43.18083122492285&fields=fsq_id%2Cname%2Cgeocodes%2Clocation%2Ccategories&categories=13002&limit=50\n",
            "{'Connection': 'keep-alive', 'Content-Length': '3976', 'Content-Type': 'application/json; charset=utf-8', 'Link': '<https://api.foursquare.com/v3/places/search?cursor=c3I6NTA&radius=1500&ll=-22.96361994621739%2C-43.18083122492285&fields=fsq_id%2Cname%2Cgeocodes%2Clocation%2Ccategories&categories=13002&limit=50>; rel=\"next\"', 'Server': 'Finatra', 'X-Fsq-Request-ID': '626f3d608b9f6b2e871f38b8', 'X-RateLimit-Path': '/v3/places/search', 'X-RateLimit-Limit': '0', 'X-RateLimit-Remaining': '0', 'content-encoding': 'gzip', 'Accept-Ranges': 'bytes', 'Date': 'Mon, 02 May 2022 02:09:36 GMT', 'Via': '1.1 varnish', 'X-Served-By': 'cache-gig2250043-GIG', 'X-Cache': 'MISS', 'X-Cache-Hits': '0', 'X-Timer': 'S1651457376.781652,VS0,VE711', 'Vary': 'Origin'}\n",
            "None\n",
            "{'Connection': 'keep-alive', 'Content-Length': '2686', 'Content-Type': 'application/json; charset=utf-8', 'Server': 'Finatra', 'X-Fsq-Request-ID': '626f3d618e01dc278655a8b3', 'X-RateLimit-Path': '/v3/places/search', 'X-RateLimit-Limit': '0', 'X-RateLimit-Remaining': '0', 'content-encoding': 'gzip', 'Accept-Ranges': 'bytes', 'Date': 'Mon, 02 May 2022 02:09:37 GMT', 'Via': '1.1 varnish', 'X-Served-By': 'cache-gig2250073-GIG', 'X-Cache': 'MISS', 'X-Cache-Hits': '0', 'X-Timer': 'S1651457377.656223,VS0,VE749', 'Vary': 'Origin'}\n",
            "https://api.foursquare.com/v3/places/search?cursor=c3I6NTA&radius=1500&ll=-22.966722295911186%2C-43.18649393180904&fields=fsq_id%2Cname%2Cgeocodes%2Clocation%2Ccategories&categories=13002&limit=50\n",
            "{'Connection': 'keep-alive', 'Content-Length': '4045', 'Content-Type': 'application/json; charset=utf-8', 'Link': '<https://api.foursquare.com/v3/places/search?cursor=c3I6NTA&radius=1500&ll=-22.966722295911186%2C-43.18649393180904&fields=fsq_id%2Cname%2Cgeocodes%2Clocation%2Ccategories&categories=13002&limit=50>; rel=\"next\"', 'Server': 'Finatra', 'X-Fsq-Request-ID': '626f3d622dffa97056bd3ade', 'X-RateLimit-Path': '/v3/places/search', 'X-RateLimit-Limit': '0', 'X-RateLimit-Remaining': '0', 'content-encoding': 'gzip', 'Accept-Ranges': 'bytes', 'Date': 'Mon, 02 May 2022 02:09:38 GMT', 'Via': '1.1 varnish', 'X-Served-By': 'cache-gig2250054-GIG', 'X-Cache': 'MISS', 'X-Cache-Hits': '0', 'X-Timer': 'S1651457378.564892,VS0,VE628', 'Vary': 'Origin'}\n",
            "None\n",
            "{'Connection': 'keep-alive', 'Content-Length': '2704', 'Content-Type': 'application/json; charset=utf-8', 'Server': 'Finatra', 'X-Fsq-Request-ID': '626f3d628e01dc278655a8c5', 'X-RateLimit-Path': '/v3/places/search', 'X-RateLimit-Limit': '0', 'X-RateLimit-Remaining': '0', 'content-encoding': 'gzip', 'Accept-Ranges': 'bytes', 'Date': 'Mon, 02 May 2022 02:09:38 GMT', 'Via': '1.1 varnish', 'X-Served-By': 'cache-gig2250070-GIG', 'X-Cache': 'MISS', 'X-Cache-Hits': '0', 'X-Timer': 'S1651457378.384357,VS0,VE472', 'Vary': 'Origin'}\n",
            "https://api.foursquare.com/v3/places/search?cursor=c3I6NTA&radius=1500&ll=-22.976112641984226%2C-43.192580445299605&fields=fsq_id%2Cname%2Cgeocodes%2Clocation%2Ccategories&categories=13002&limit=50\n",
            "{'Connection': 'keep-alive', 'Content-Length': '3958', 'Content-Type': 'application/json; charset=utf-8', 'Link': '<https://api.foursquare.com/v3/places/search?cursor=c3I6NTA&radius=1500&ll=-22.976112641984226%2C-43.192580445299605&fields=fsq_id%2Cname%2Cgeocodes%2Clocation%2Ccategories&categories=13002&limit=50>; rel=\"next\"', 'Server': 'Finatra', 'X-Fsq-Request-ID': '626f3d633f818871e4284d3b', 'X-RateLimit-Path': '/v3/places/search', 'X-RateLimit-Limit': '0', 'X-RateLimit-Remaining': '0', 'content-encoding': 'gzip', 'Accept-Ranges': 'bytes', 'Date': 'Mon, 02 May 2022 02:09:39 GMT', 'Via': '1.1 varnish', 'X-Served-By': 'cache-gig2250036-GIG', 'X-Cache': 'MISS', 'X-Cache-Hits': '0', 'X-Timer': 'S1651457379.013230,VS0,VE777', 'Vary': 'Origin'}\n",
            "None\n",
            "{'Connection': 'keep-alive', 'Content-Length': '3438', 'Content-Type': 'application/json; charset=utf-8', 'Server': 'Finatra', 'X-Fsq-Request-ID': '626f3d64938dec159f38634b', 'X-RateLimit-Path': '/v3/places/search', 'X-RateLimit-Limit': '0', 'X-RateLimit-Remaining': '0', 'content-encoding': 'gzip', 'Accept-Ranges': 'bytes', 'Date': 'Mon, 02 May 2022 02:09:40 GMT', 'Via': '1.1 varnish', 'X-Served-By': 'cache-gig2250063-GIG', 'X-Cache': 'MISS', 'X-Cache-Hits': '0', 'X-Timer': 'S1651457380.969884,VS0,VE627', 'Vary': 'Origin'}\n",
            "https://api.foursquare.com/v3/places/search?cursor=c3I6NTA&radius=1500&ll=-22.984610664497772%2C-43.19718307781211&fields=fsq_id%2Cname%2Cgeocodes%2Clocation%2Ccategories&categories=13002&limit=50\n",
            "{'Connection': 'keep-alive', 'Content-Length': '4044', 'Content-Type': 'application/json; charset=utf-8', 'Link': '<https://api.foursquare.com/v3/places/search?cursor=c3I6NTA&radius=1500&ll=-22.984610664497772%2C-43.19718307781211&fields=fsq_id%2Cname%2Cgeocodes%2Clocation%2Ccategories&categories=13002&limit=50>; rel=\"next\"', 'Server': 'Finatra', 'X-Fsq-Request-ID': '626f3d6523b8c831d44f7e11', 'X-RateLimit-Path': '/v3/places/search', 'X-RateLimit-Limit': '0', 'X-RateLimit-Remaining': '0', 'content-encoding': 'gzip', 'Accept-Ranges': 'bytes', 'Date': 'Mon, 02 May 2022 02:09:41 GMT', 'Via': '1.1 varnish', 'X-Served-By': 'cache-gig2250077-GIG', 'X-Cache': 'MISS', 'X-Cache-Hits': '0', 'X-Timer': 'S1651457381.762995,VS0,VE610', 'Vary': 'Origin'}\n",
            "None\n",
            "{'Connection': 'keep-alive', 'Content-Length': '1457', 'Content-Type': 'application/json; charset=utf-8', 'Server': 'Finatra', 'X-Fsq-Request-ID': '626f3d668b9f6b2e871f3909', 'X-RateLimit-Path': '/v3/places/search', 'X-RateLimit-Limit': '0', 'X-RateLimit-Remaining': '0', 'content-encoding': 'gzip', 'Accept-Ranges': 'bytes', 'Date': 'Mon, 02 May 2022 02:09:42 GMT', 'Via': '1.1 varnish', 'X-Served-By': 'cache-gig2250072-GIG', 'X-Cache': 'MISS', 'X-Cache-Hits': '0', 'X-Timer': 'S1651457382.541087,VS0,VE638', 'Vary': 'Origin'}\n"
          ]
        }
      ],
      "source": [
        "venues_data = get_venues_data();"
      ]
    },
    {
      "cell_type": "code",
      "execution_count": 9,
      "metadata": {
        "colab": {
          "base_uri": "https://localhost:8080/",
          "height": 1000
        },
        "id": "QfDx-mwPBtq2",
        "outputId": "8410053e-4623-4dee-d952-7b2b34748a93"
      },
      "outputs": [],
      "source": [
        "df_request = venues_data"
      ]
    },
    {
      "cell_type": "code",
      "execution_count": 10,
      "metadata": {},
      "outputs": [
        {
          "data": {
            "text/html": [
              "<div>\n",
              "<style scoped>\n",
              "    .dataframe tbody tr th:only-of-type {\n",
              "        vertical-align: middle;\n",
              "    }\n",
              "\n",
              "    .dataframe tbody tr th {\n",
              "        vertical-align: top;\n",
              "    }\n",
              "\n",
              "    .dataframe thead th {\n",
              "        text-align: right;\n",
              "    }\n",
              "</style>\n",
              "<table border=\"1\" class=\"dataframe\">\n",
              "  <thead>\n",
              "    <tr style=\"text-align: right;\">\n",
              "      <th></th>\n",
              "      <th>fsq_id</th>\n",
              "      <th>categories</th>\n",
              "      <th>geocodes</th>\n",
              "      <th>location</th>\n",
              "      <th>name</th>\n",
              "      <th>estacao_nome</th>\n",
              "      <th>estacao_lat_lon</th>\n",
              "    </tr>\n",
              "  </thead>\n",
              "  <tbody>\n",
              "    <tr>\n",
              "      <th>0</th>\n",
              "      <td>4c3c9f7da97bbe9a0cc2fadd</td>\n",
              "      <td>[{'id': 13002, 'name': 'Bakery', 'icon': {'pre...</td>\n",
              "      <td>{'main': {'latitude': -22.984827, 'longitude':...</td>\n",
              "      <td>{'address': 'Rua Visconde de Piraja, 29', 'add...</td>\n",
              "      <td>La Veronese</td>\n",
              "      <td>General Osório</td>\n",
              "      <td>-22.984610664497772,-43.19718307781211</td>\n",
              "    </tr>\n",
              "    <tr>\n",
              "      <th>1</th>\n",
              "      <td>4e58ee04d22dfba6f46c10ce</td>\n",
              "      <td>[{'id': 13002, 'name': 'Bakery', 'icon': {'pre...</td>\n",
              "      <td>{'main': {'latitude': -22.978994, 'longitude':...</td>\n",
              "      <td>{'address': 'Avenida Epitácio Pessoa, 1789', '...</td>\n",
              "      <td>Padaria Santa Marta</td>\n",
              "      <td>General Osório</td>\n",
              "      <td>-22.984610664497772,-43.19718307781211</td>\n",
              "    </tr>\n",
              "  </tbody>\n",
              "</table>\n",
              "</div>"
            ],
            "text/plain": [
              "                     fsq_id  \\\n",
              "0  4c3c9f7da97bbe9a0cc2fadd   \n",
              "1  4e58ee04d22dfba6f46c10ce   \n",
              "\n",
              "                                          categories  \\\n",
              "0  [{'id': 13002, 'name': 'Bakery', 'icon': {'pre...   \n",
              "1  [{'id': 13002, 'name': 'Bakery', 'icon': {'pre...   \n",
              "\n",
              "                                            geocodes  \\\n",
              "0  {'main': {'latitude': -22.984827, 'longitude':...   \n",
              "1  {'main': {'latitude': -22.978994, 'longitude':...   \n",
              "\n",
              "                                            location                 name  \\\n",
              "0  {'address': 'Rua Visconde de Piraja, 29', 'add...          La Veronese   \n",
              "1  {'address': 'Avenida Epitácio Pessoa, 1789', '...  Padaria Santa Marta   \n",
              "\n",
              "     estacao_nome                         estacao_lat_lon  \n",
              "0  General Osório  -22.984610664497772,-43.19718307781211  \n",
              "1  General Osório  -22.984610664497772,-43.19718307781211  "
            ]
          },
          "execution_count": 10,
          "metadata": {},
          "output_type": "execute_result"
        }
      ],
      "source": [
        "df_request.head(2)"
      ]
    },
    {
      "cell_type": "code",
      "execution_count": 11,
      "metadata": {
        "id": "_vaMAAux-n6u"
      },
      "outputs": [],
      "source": [
        "df_request.to_csv('request_padaria.csv')"
      ]
    },
    {
      "cell_type": "markdown",
      "metadata": {
        "id": "zu53AE2y5BrR"
      },
      "source": [
        "## Tratamento dos Dados"
      ]
    },
    {
      "cell_type": "markdown",
      "metadata": {
        "id": "K4u7cjzj_ruu"
      },
      "source": [
        "### Informações dos dados brutos"
      ]
    },
    {
      "cell_type": "code",
      "execution_count": 12,
      "metadata": {
        "id": "FgyCPHIXjmlJ"
      },
      "outputs": [],
      "source": [
        "df_handling = pd.read_csv('C:/Users/renan/OneDrive/Área de Trabalho/Estudos/Infnet/Notebooks/Projeto_z_sul/request_padaria.csv')"
      ]
    },
    {
      "cell_type": "code",
      "execution_count": 13,
      "metadata": {
        "id": "fO5cENjp_ruv"
      },
      "outputs": [],
      "source": [
        "df_handling.drop(df_handling.columns[[0]],axis=1, inplace=True)"
      ]
    },
    {
      "cell_type": "code",
      "execution_count": 14,
      "metadata": {
        "colab": {
          "base_uri": "https://localhost:8080/"
        },
        "id": "1Sj5Bi88LteT",
        "outputId": "570a96dc-5d4d-4742-d1ce-b9dc74db1c0d"
      },
      "outputs": [
        {
          "data": {
            "text/plain": [
              "(400, 7)"
            ]
          },
          "execution_count": 14,
          "metadata": {},
          "output_type": "execute_result"
        }
      ],
      "source": [
        "df_handling.shape"
      ]
    },
    {
      "cell_type": "code",
      "execution_count": 15,
      "metadata": {},
      "outputs": [
        {
          "data": {
            "text/html": [
              "<div>\n",
              "<style scoped>\n",
              "    .dataframe tbody tr th:only-of-type {\n",
              "        vertical-align: middle;\n",
              "    }\n",
              "\n",
              "    .dataframe tbody tr th {\n",
              "        vertical-align: top;\n",
              "    }\n",
              "\n",
              "    .dataframe thead th {\n",
              "        text-align: right;\n",
              "    }\n",
              "</style>\n",
              "<table border=\"1\" class=\"dataframe\">\n",
              "  <thead>\n",
              "    <tr style=\"text-align: right;\">\n",
              "      <th></th>\n",
              "      <th>fsq_id</th>\n",
              "      <th>categories</th>\n",
              "      <th>geocodes</th>\n",
              "      <th>location</th>\n",
              "      <th>name</th>\n",
              "      <th>estacao_nome</th>\n",
              "      <th>estacao_lat_lon</th>\n",
              "    </tr>\n",
              "  </thead>\n",
              "  <tbody>\n",
              "    <tr>\n",
              "      <th>0</th>\n",
              "      <td>4c3c9f7da97bbe9a0cc2fadd</td>\n",
              "      <td>[{'id': 13002, 'name': 'Bakery', 'icon': {'pre...</td>\n",
              "      <td>{'main': {'latitude': -22.984827, 'longitude':...</td>\n",
              "      <td>{'address': 'Rua Visconde de Piraja, 29', 'add...</td>\n",
              "      <td>La Veronese</td>\n",
              "      <td>General Osório</td>\n",
              "      <td>-22.984610664497772,-43.19718307781211</td>\n",
              "    </tr>\n",
              "  </tbody>\n",
              "</table>\n",
              "</div>"
            ],
            "text/plain": [
              "                     fsq_id  \\\n",
              "0  4c3c9f7da97bbe9a0cc2fadd   \n",
              "\n",
              "                                          categories  \\\n",
              "0  [{'id': 13002, 'name': 'Bakery', 'icon': {'pre...   \n",
              "\n",
              "                                            geocodes  \\\n",
              "0  {'main': {'latitude': -22.984827, 'longitude':...   \n",
              "\n",
              "                                            location         name  \\\n",
              "0  {'address': 'Rua Visconde de Piraja, 29', 'add...  La Veronese   \n",
              "\n",
              "     estacao_nome                         estacao_lat_lon  \n",
              "0  General Osório  -22.984610664497772,-43.19718307781211  "
            ]
          },
          "execution_count": 15,
          "metadata": {},
          "output_type": "execute_result"
        }
      ],
      "source": [
        "df_handling.head(1)"
      ]
    },
    {
      "cell_type": "markdown",
      "metadata": {
        "id": "r2VxBY0RAXdI"
      },
      "source": [
        "#### Coluna Location"
      ]
    },
    {
      "cell_type": "code",
      "execution_count": 16,
      "metadata": {
        "id": "6kXH6qpJNkkp"
      },
      "outputs": [],
      "source": [
        "# Criar nova coluna com endereços e adicionar ao dataframe\n",
        "\n",
        "endereço = []\n",
        "\n",
        "for location in df_handling['location']:\n",
        "  dict_locations = ast.literal_eval(location)\n",
        "  endereço.append(dict_locations['formatted_address'])\n",
        "\n",
        "df_handling['endereço'] = endereço"
      ]
    },
    {
      "cell_type": "code",
      "execution_count": 17,
      "metadata": {
        "colab": {
          "base_uri": "https://localhost:8080/",
          "height": 1000
        },
        "id": "S6CtkJkkAx3S",
        "outputId": "6e73b6e3-e7c4-4b00-cdeb-0d87a3b8a1de"
      },
      "outputs": [
        {
          "data": {
            "text/html": [
              "<div>\n",
              "<style scoped>\n",
              "    .dataframe tbody tr th:only-of-type {\n",
              "        vertical-align: middle;\n",
              "    }\n",
              "\n",
              "    .dataframe tbody tr th {\n",
              "        vertical-align: top;\n",
              "    }\n",
              "\n",
              "    .dataframe thead th {\n",
              "        text-align: right;\n",
              "    }\n",
              "</style>\n",
              "<table border=\"1\" class=\"dataframe\">\n",
              "  <thead>\n",
              "    <tr style=\"text-align: right;\">\n",
              "      <th></th>\n",
              "      <th>fsq_id</th>\n",
              "      <th>categories</th>\n",
              "      <th>geocodes</th>\n",
              "      <th>location</th>\n",
              "      <th>name</th>\n",
              "      <th>estacao_nome</th>\n",
              "      <th>estacao_lat_lon</th>\n",
              "      <th>endereço</th>\n",
              "    </tr>\n",
              "  </thead>\n",
              "  <tbody>\n",
              "    <tr>\n",
              "      <th>0</th>\n",
              "      <td>4c3c9f7da97bbe9a0cc2fadd</td>\n",
              "      <td>[{'id': 13002, 'name': 'Bakery', 'icon': {'pre...</td>\n",
              "      <td>{'main': {'latitude': -22.984827, 'longitude':...</td>\n",
              "      <td>{'address': 'Rua Visconde de Piraja, 29', 'add...</td>\n",
              "      <td>La Veronese</td>\n",
              "      <td>General Osório</td>\n",
              "      <td>-22.984610664497772,-43.19718307781211</td>\n",
              "      <td>Rua Visconde de Piraja, 29, Rio de Janeiro, RJ...</td>\n",
              "    </tr>\n",
              "  </tbody>\n",
              "</table>\n",
              "</div>"
            ],
            "text/plain": [
              "                     fsq_id  \\\n",
              "0  4c3c9f7da97bbe9a0cc2fadd   \n",
              "\n",
              "                                          categories  \\\n",
              "0  [{'id': 13002, 'name': 'Bakery', 'icon': {'pre...   \n",
              "\n",
              "                                            geocodes  \\\n",
              "0  {'main': {'latitude': -22.984827, 'longitude':...   \n",
              "\n",
              "                                            location         name  \\\n",
              "0  {'address': 'Rua Visconde de Piraja, 29', 'add...  La Veronese   \n",
              "\n",
              "     estacao_nome                         estacao_lat_lon  \\\n",
              "0  General Osório  -22.984610664497772,-43.19718307781211   \n",
              "\n",
              "                                            endereço  \n",
              "0  Rua Visconde de Piraja, 29, Rio de Janeiro, RJ...  "
            ]
          },
          "execution_count": 17,
          "metadata": {},
          "output_type": "execute_result"
        }
      ],
      "source": [
        "df_handling.head(1)"
      ]
    },
    {
      "cell_type": "markdown",
      "metadata": {},
      "source": [
        "#### Coluna geocodes"
      ]
    },
    {
      "cell_type": "code",
      "execution_count": 18,
      "metadata": {},
      "outputs": [],
      "source": [
        "def extract_value(df, column, regex):\n",
        "    return df[column].str.extract(regex)"
      ]
    },
    {
      "cell_type": "code",
      "execution_count": 19,
      "metadata": {},
      "outputs": [],
      "source": [
        "df_handling[\"geocodes\"] = extract_value(df_handling, \"geocodes\", \"{'main':.\\{(.*?)\\}\")"
      ]
    },
    {
      "cell_type": "code",
      "execution_count": 20,
      "metadata": {},
      "outputs": [
        {
          "data": {
            "text/plain": [
              "True     211\n",
              "False    189\n",
              "Name: geocodes, dtype: int64"
            ]
          },
          "execution_count": 20,
          "metadata": {},
          "output_type": "execute_result"
        }
      ],
      "source": [
        "df_handling.geocodes.duplicated().value_counts()"
      ]
    },
    {
      "cell_type": "code",
      "execution_count": 21,
      "metadata": {},
      "outputs": [],
      "source": [
        "# Criar colundas com latitude e longitude e adicionar ao dataframe\n",
        "\n",
        "latitude = []\n",
        "longitude = []\n",
        "\n",
        "for geo in df_handling['geocodes'].str.split():\n",
        " latitude.append(geo[1][:-1])\n",
        " longitude.append(geo[3][:-1])\n",
        "\n",
        "df_handling['latitude'] = latitude\n",
        "df_handling['longitude'] = longitude"
      ]
    },
    {
      "cell_type": "code",
      "execution_count": 22,
      "metadata": {},
      "outputs": [
        {
          "data": {
            "text/html": [
              "<div>\n",
              "<style scoped>\n",
              "    .dataframe tbody tr th:only-of-type {\n",
              "        vertical-align: middle;\n",
              "    }\n",
              "\n",
              "    .dataframe tbody tr th {\n",
              "        vertical-align: top;\n",
              "    }\n",
              "\n",
              "    .dataframe thead th {\n",
              "        text-align: right;\n",
              "    }\n",
              "</style>\n",
              "<table border=\"1\" class=\"dataframe\">\n",
              "  <thead>\n",
              "    <tr style=\"text-align: right;\">\n",
              "      <th></th>\n",
              "      <th>fsq_id</th>\n",
              "      <th>categories</th>\n",
              "      <th>geocodes</th>\n",
              "      <th>location</th>\n",
              "      <th>name</th>\n",
              "      <th>estacao_nome</th>\n",
              "      <th>estacao_lat_lon</th>\n",
              "      <th>endereço</th>\n",
              "      <th>latitude</th>\n",
              "      <th>longitude</th>\n",
              "    </tr>\n",
              "  </thead>\n",
              "  <tbody>\n",
              "    <tr>\n",
              "      <th>0</th>\n",
              "      <td>4c3c9f7da97bbe9a0cc2fadd</td>\n",
              "      <td>[{'id': 13002, 'name': 'Bakery', 'icon': {'pre...</td>\n",
              "      <td>'latitude': -22.984827, 'longitude': -43.196363</td>\n",
              "      <td>{'address': 'Rua Visconde de Piraja, 29', 'add...</td>\n",
              "      <td>La Veronese</td>\n",
              "      <td>General Osório</td>\n",
              "      <td>-22.984610664497772,-43.19718307781211</td>\n",
              "      <td>Rua Visconde de Piraja, 29, Rio de Janeiro, RJ...</td>\n",
              "      <td>-22.984827</td>\n",
              "      <td>-43.19636</td>\n",
              "    </tr>\n",
              "    <tr>\n",
              "      <th>1</th>\n",
              "      <td>4e58ee04d22dfba6f46c10ce</td>\n",
              "      <td>[{'id': 13002, 'name': 'Bakery', 'icon': {'pre...</td>\n",
              "      <td>'latitude': -22.978994, 'longitude': -43.200804</td>\n",
              "      <td>{'address': 'Avenida Epitácio Pessoa, 1789', '...</td>\n",
              "      <td>Padaria Santa Marta</td>\n",
              "      <td>General Osório</td>\n",
              "      <td>-22.984610664497772,-43.19718307781211</td>\n",
              "      <td>Avenida Epitácio Pessoa, 1789, Rio de Janeiro, RJ</td>\n",
              "      <td>-22.978994</td>\n",
              "      <td>-43.20080</td>\n",
              "    </tr>\n",
              "  </tbody>\n",
              "</table>\n",
              "</div>"
            ],
            "text/plain": [
              "                     fsq_id  \\\n",
              "0  4c3c9f7da97bbe9a0cc2fadd   \n",
              "1  4e58ee04d22dfba6f46c10ce   \n",
              "\n",
              "                                          categories  \\\n",
              "0  [{'id': 13002, 'name': 'Bakery', 'icon': {'pre...   \n",
              "1  [{'id': 13002, 'name': 'Bakery', 'icon': {'pre...   \n",
              "\n",
              "                                          geocodes  \\\n",
              "0  'latitude': -22.984827, 'longitude': -43.196363   \n",
              "1  'latitude': -22.978994, 'longitude': -43.200804   \n",
              "\n",
              "                                            location                 name  \\\n",
              "0  {'address': 'Rua Visconde de Piraja, 29', 'add...          La Veronese   \n",
              "1  {'address': 'Avenida Epitácio Pessoa, 1789', '...  Padaria Santa Marta   \n",
              "\n",
              "     estacao_nome                         estacao_lat_lon  \\\n",
              "0  General Osório  -22.984610664497772,-43.19718307781211   \n",
              "1  General Osório  -22.984610664497772,-43.19718307781211   \n",
              "\n",
              "                                            endereço    latitude  longitude  \n",
              "0  Rua Visconde de Piraja, 29, Rio de Janeiro, RJ...  -22.984827  -43.19636  \n",
              "1  Avenida Epitácio Pessoa, 1789, Rio de Janeiro, RJ  -22.978994  -43.20080  "
            ]
          },
          "execution_count": 22,
          "metadata": {},
          "output_type": "execute_result"
        }
      ],
      "source": [
        "df_handling.head(2)"
      ]
    },
    {
      "cell_type": "code",
      "execution_count": 23,
      "metadata": {
        "id": "3lbeM88m_ru3"
      },
      "outputs": [],
      "source": [
        "df_handling.drop(df_handling.columns[[0,1,2,3]],axis=1, inplace=True)"
      ]
    },
    {
      "cell_type": "code",
      "execution_count": 24,
      "metadata": {
        "id": "rM3VcPEe_ru4",
        "outputId": "310a1e43-a6de-4c18-88b5-ea63f5bbb94e"
      },
      "outputs": [
        {
          "data": {
            "text/html": [
              "<div>\n",
              "<style scoped>\n",
              "    .dataframe tbody tr th:only-of-type {\n",
              "        vertical-align: middle;\n",
              "    }\n",
              "\n",
              "    .dataframe tbody tr th {\n",
              "        vertical-align: top;\n",
              "    }\n",
              "\n",
              "    .dataframe thead th {\n",
              "        text-align: right;\n",
              "    }\n",
              "</style>\n",
              "<table border=\"1\" class=\"dataframe\">\n",
              "  <thead>\n",
              "    <tr style=\"text-align: right;\">\n",
              "      <th></th>\n",
              "      <th>name</th>\n",
              "      <th>estacao_nome</th>\n",
              "      <th>estacao_lat_lon</th>\n",
              "      <th>endereço</th>\n",
              "      <th>latitude</th>\n",
              "      <th>longitude</th>\n",
              "    </tr>\n",
              "  </thead>\n",
              "  <tbody>\n",
              "    <tr>\n",
              "      <th>0</th>\n",
              "      <td>La Veronese</td>\n",
              "      <td>General Osório</td>\n",
              "      <td>-22.984610664497772,-43.19718307781211</td>\n",
              "      <td>Rua Visconde de Piraja, 29, Rio de Janeiro, RJ...</td>\n",
              "      <td>-22.984827</td>\n",
              "      <td>-43.19636</td>\n",
              "    </tr>\n",
              "  </tbody>\n",
              "</table>\n",
              "</div>"
            ],
            "text/plain": [
              "          name    estacao_nome                         estacao_lat_lon  \\\n",
              "0  La Veronese  General Osório  -22.984610664497772,-43.19718307781211   \n",
              "\n",
              "                                            endereço    latitude  longitude  \n",
              "0  Rua Visconde de Piraja, 29, Rio de Janeiro, RJ...  -22.984827  -43.19636  "
            ]
          },
          "execution_count": 24,
          "metadata": {},
          "output_type": "execute_result"
        }
      ],
      "source": [
        "df_handling.head(1)"
      ]
    },
    {
      "cell_type": "code",
      "execution_count": 25,
      "metadata": {},
      "outputs": [
        {
          "data": {
            "text/plain": [
              "(400, 6)"
            ]
          },
          "execution_count": 25,
          "metadata": {},
          "output_type": "execute_result"
        }
      ],
      "source": [
        "df_handling.shape"
      ]
    },
    {
      "cell_type": "code",
      "execution_count": 26,
      "metadata": {},
      "outputs": [],
      "source": [
        "df_handling.drop_duplicates(inplace=True)\n",
        "df_handling = df_handling.assign(estabelecimento='padaria')"
      ]
    },
    {
      "cell_type": "code",
      "execution_count": 27,
      "metadata": {},
      "outputs": [
        {
          "data": {
            "text/plain": [
              "(400, 7)"
            ]
          },
          "execution_count": 27,
          "metadata": {},
          "output_type": "execute_result"
        }
      ],
      "source": [
        "df_handling.shape"
      ]
    },
    {
      "cell_type": "code",
      "execution_count": 28,
      "metadata": {
        "id": "VAgv2Uwg_ru4"
      },
      "outputs": [],
      "source": [
        "df_handling.to_csv(\"handling_padaria.csv\")"
      ]
    }
  ],
  "metadata": {
    "colab": {
      "collapsed_sections": [],
      "name": "1_notebook_padaria.ipynb",
      "provenance": []
    },
    "kernelspec": {
      "display_name": "Python 3",
      "name": "python3"
    },
    "language_info": {
      "codemirror_mode": {
        "name": "ipython",
        "version": 3
      },
      "file_extension": ".py",
      "mimetype": "text/x-python",
      "name": "python",
      "nbconvert_exporter": "python",
      "pygments_lexer": "ipython3",
      "version": "3.10.4"
    }
  },
  "nbformat": 4,
  "nbformat_minor": 0
}
